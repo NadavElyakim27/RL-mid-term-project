{
  "cells": [
    {
      "cell_type": "markdown",
      "metadata": {
        "id": "view-in-github",
        "colab_type": "text"
      },
      "source": [
        "<a href=\"https://colab.research.google.com/github/NadavElyakim27/RL-mid-term-project/blob/main/RL_Mid_2023.ipynb\" target=\"_parent\"><img src=\"https://colab.research.google.com/assets/colab-badge.svg\" alt=\"Open In Colab\"/></a>"
      ]
    },
    {
      "cell_type": "markdown",
      "source": [
        "# Mid-semester assignment - reinforcements learning \n",
        "Hello dear students,<br> this is the template notebook. Please click on the \"File\" tab and then on \"Save a copy into drive\".\n",
        "\n",
        "---\n",
        "<br>\n",
        "\n",
        "### Name and ID:\n",
        "Student 1: Nadav Elyakim 205702368\n",
        "<br>\n",
        "Student 2: Gil Geva 312463664"
      ],
      "metadata": {
        "id": "XXqIDAd1SeMX"
      }
    },
    {
      "cell_type": "markdown",
      "source": [
        "### Goodluck!"
      ],
      "metadata": {
        "id": "QBKobbdiT6F0"
      }
    },
    {
      "cell_type": "markdown",
      "source": [
        "# Installs"
      ],
      "metadata": {
        "id": "VH9ZX_RT8eFo"
      }
    },
    {
      "cell_type": "code",
      "source": [
        "%%capture\n",
        "!sudo apt-get update\n",
        "!sudo apt-get install -y xvfb ffmpeg freeglut3-dev\n",
        "!pip install 'imageio==2.4.0'\n",
        "!pip install gym\n",
        "!pip install pygame\n",
        "!apt-get install python-opengl -y\n",
        "!apt install xvfb -y\n",
        "!pip install pyvirtualdisplay\n",
        "!pip install piglet\n",
        "!pip install -U --no-cache-dir gdown --pre\n",
        "!gdown --id 1FeuIx5OVLmfCx0dxxwU-7Xn8gpPc-53D\n",
        "!unzip /content/maze_mid.zip"
      ],
      "metadata": {
        "id": "xuJdLI_YPAvD"
      },
      "execution_count": 3,
      "outputs": []
    },
    {
      "cell_type": "markdown",
      "source": [
        "# Imports"
      ],
      "metadata": {
        "id": "18TKb2kW6MKc"
      }
    },
    {
      "cell_type": "code",
      "execution_count": 7,
      "metadata": {
        "id": "NbxNfCQq2-8H"
      },
      "outputs": [],
      "source": [
        "import numpy as np\n",
        "import gym\n",
        "from gym import logger as gymlogger\n",
        "from gym.utils import seeding\n",
        "from gym import error, spaces, utils\n",
        "gymlogger.set_level(40) # error only\n",
        "import glob\n",
        "import io\n",
        "import base64\n",
        "import os\n",
        "import random\n",
        "import matplotlib.pyplot as plt\n",
        "%matplotlib inline\n",
        "import math\n",
        "import glob\n",
        "from pyvirtualdisplay import Display\n",
        "from IPython.display import HTML\n",
        "from IPython import display as ipythondisplay\n",
        "import pygame\n",
        "from maze_mid import *\n",
        "from maze_mid.cust_maze import MazeEnvCast5x5, MazeEnvCast15x15, MazeEnvCast25x25\n",
        "import pyvirtualdisplay\n",
        "import imageio\n",
        "import IPython\n",
        "import time"
      ]
    },
    {
      "cell_type": "markdown",
      "source": [
        "# Display utils\n",
        "The cell below contains the video display configuration. No need to make changes here."
      ],
      "metadata": {
        "id": "I_CiTInf6Vrq"
      }
    },
    {
      "cell_type": "code",
      "execution_count": 8,
      "metadata": {
        "id": "IBL7zGQU3Y6t"
      },
      "outputs": [],
      "source": [
        "def embed_mp4(filename):\n",
        "  \"\"\"Embeds an mp4 file in the notebook.\"\"\"\n",
        "  video = open(filename,'rb').read()\n",
        "  b64 = base64.b64encode(video)\n",
        "  tag = '''\n",
        "  <video width=\"640\" height=\"480\" controls>\n",
        "    <source src=\"data:video/mp4;base64,{0}\" type=\"video/mp4\">\n",
        "  Your browser does not support the video tag.\n",
        "  </video>'''.format(b64.decode())\n",
        "\n",
        "  return IPython.display.HTML(tag)\n",
        "display = pyvirtualdisplay.Display(visible=0, size=(1400, 900)).start()"
      ]
    },
    {
      "cell_type": "markdown",
      "source": [
        "# Environment check\n",
        "Here you can check if the environment of the maze is working properly.<br> **If the first time you run the cell an error appears Try to run the cell again.**\n",
        "\n",
        "---"
      ],
      "metadata": {
        "id": "ZBt4jtAZyU64"
      }
    },
    {
      "cell_type": "markdown",
      "source": [
        "## Environment 5X5"
      ],
      "metadata": {
        "id": "yhcTV4voch6R"
      }
    },
    {
      "cell_type": "code",
      "source": [
        "env = MazeEnvCast5x5() \n",
        "env.reset()\n",
        "plt.imshow(env.render('rgb_array'))\n",
        "state_size = env.observation_space\n",
        "a = env.action_space \n",
        "state = env.reset()\n",
        "env.render()\n",
        "action = env.action_space.sample()\n",
        "observation, reward, done, info = env.step(action)\n",
        "env.render()\n",
        "print(f'action: {action}, observation: {observation},  reward: {reward}, done: {done}')"
      ],
      "metadata": {
        "colab": {
          "base_uri": "https://localhost:8080/",
          "height": 287
        },
        "id": "F7Rhq-M1cieJ",
        "outputId": "dcdee938-38d7-4200-dc24-3860f4a3e6b1"
      },
      "execution_count": 9,
      "outputs": [
        {
          "output_type": "stream",
          "name": "stdout",
          "text": [
            "action: 2, observation: [1 0],  reward: -0.004, done: False\n"
          ]
        },
        {
          "output_type": "display_data",
          "data": {
            "text/plain": [
              "<Figure size 432x288 with 1 Axes>"
            ],
            "image/png": "[encoded data removed]"
          },
          "metadata": {
            "needs_background": "light"
          }
        }
      ]
    },
    {
      "cell_type": "markdown",
      "source": [
        "### Random actions video 5X5"
      ],
      "metadata": {
        "id": "ORDN3CCSkCaG"
      }
    },
    {
      "cell_type": "code",
      "source": [
        "start_time = time.time()\n",
        "done = False\n",
        "iter = 0\n",
        "video_filename = 'imageio.mp4'\n",
        "with imageio.get_writer(video_filename, fps=10) as video:\n",
        "  while (iter < 10) or not done:\n",
        "    time_passed = int(time.time() - start_time)\n",
        "    if done or time_passed > 3:\n",
        "      break\n",
        "    iter +=1\n",
        "    action = env.action_space.sample()\n",
        "    observation, reward, done, info = env.step(action)\n",
        "    video.append_data(env.render(mode='rgb_array'))"
      ],
      "metadata": {
        "colab": {
          "base_uri": "https://localhost:8080/"
        },
        "id": "nZUjGOPjc1C_",
        "outputId": "ea813803-7b8d-4c3f-d947-1653e2d34770"
      },
      "execution_count": 10,
      "outputs": [
        {
          "output_type": "stream",
          "name": "stderr",
          "text": [
            "/usr/local/lib/python3.8/dist-packages/imageio/plugins/ffmpeg.py:727: DeprecationWarning: tostring() is deprecated. Use tobytes() instead.\n",
            "  self._proc.stdin.write(im.tostring())\n"
          ]
        }
      ]
    },
    {
      "cell_type": "code",
      "source": [
        "embed_mp4(video_filename)"
      ],
      "metadata": {
        "colab": {
          "base_uri": "https://localhost:8080/",
          "height": 502
        },
        "id": "9b2GtnsSgrXB",
        "outputId": "50cf9bd5-f9c7-4a74-f1d1-ff6c0b53cee2"
      },
      "execution_count": 11,
      "outputs": [
        {
          "output_type": "execute_result",
          "data": {
            "text/plain": [
              "<IPython.core.display.HTML object>"
            ],
            "text/html": [
              "\n",
              "  <video width=\"640\" height=\"480\" controls>\n",
              "    <source src=\"data:video/mp4;base64,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\" type=\"video/mp4\">\n",
              "  Your browser does not support the video tag.\n",
              "  </video>"
            ]
          },
          "metadata": {},
          "execution_count": 11
        }
      ]
    },
    {
      "cell_type": "markdown",
      "source": [
        "## Environment 15X15"
      ],
      "metadata": {
        "id": "enloRj7ON4iu"
      }
    },
    {
      "cell_type": "code",
      "source": [
        "env = MazeEnvCast15x15() \n",
        "env.reset()\n",
        "plt.imshow(env.render('rgb_array'))\n",
        "state_size = env.observation_space\n",
        "a = env.action_space \n",
        "state = env.reset()\n",
        "env.render()\n",
        "action = env.action_space.sample()\n",
        "observation, reward, done, info = env.step(action)\n",
        "env.render()\n",
        "print(f'action: {action}, observation: {observation},  reward: {reward}, done: {done}')\n"
      ],
      "metadata": {
        "colab": {
          "base_uri": "https://localhost:8080/",
          "height": 287
        },
        "id": "vb4-FNQanzOe",
        "outputId": "279cc74f-b8bd-4326-ec96-1e3ccbac17bc"
      },
      "execution_count": null,
      "outputs": [
        {
          "output_type": "stream",
          "name": "stdout",
          "text": [
            "action: 0, observation: [0 0],  reward: -0.00044444444444444447, done: False\n"
          ]
        },
        {
          "output_type": "display_data",
          "data": {
            "text/plain": [
              "<Figure size 432x288 with 1 Axes>"
            ],
            "image/png": "[encoded data removed]"
          },
          "metadata": {
            "needs_background": "light"
          }
        }
      ]
    },
    {
      "cell_type": "markdown",
      "source": [
        "## Environment 25X25"
      ],
      "metadata": {
        "id": "p9O2MD8ROBaY"
      }
    },
    {
      "cell_type": "code",
      "source": [
        "env = MazeEnvCast25x25() \n",
        "env.reset()\n",
        "plt.imshow(env.render('rgb_array'))\n",
        "state_size = env.observation_space\n",
        "a = env.action_space \n",
        "state = env.reset()\n",
        "env.render()\n",
        "action = env.action_space.sample()\n",
        "observation, reward, done, info = env.step(action)\n",
        "env.render()\n",
        "print(f'action: {action}, observation: {observation},  reward: {reward}, done: {done}')"
      ],
      "metadata": {
        "id": "aCc5S-z6vOmL",
        "colab": {
          "base_uri": "https://localhost:8080/",
          "height": 287
        },
        "outputId": "e2100e08-e1df-46cd-ce1f-263632e69aa3"
      },
      "execution_count": null,
      "outputs": [
        {
          "output_type": "stream",
          "name": "stdout",
          "text": [
            "action: 1, observation: [0 1],  reward: -0.00016, done: False\n"
          ]
        },
        {
          "output_type": "display_data",
          "data": {
            "text/plain": [
              "<Figure size 432x288 with 1 Axes>"
            ],
            "image/png": "[encoded data removed]"
          },
          "metadata": {
            "needs_background": "light"
          }
        }
      ]
    },
    {
      "cell_type": "code",
      "source": [],
      "metadata": {
        "id": "br65tn7ZdzNf"
      },
      "execution_count": null,
      "outputs": []
    }
  ],
  "metadata": {
    "colab": {
      "provenance": [],
      "include_colab_link": true
    },
    "kernelspec": {
      "display_name": "Python 3",
      "name": "python3"
    },
    "accelerator": "GPU",
    "gpuClass": "standard"
  },
  "nbformat": 4,
  "nbformat_minor": 0
}